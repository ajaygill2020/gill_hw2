{
 "cells": [
  {
   "cell_type": "markdown",
   "metadata": {
    "Collapsed": "false"
   },
   "source": [
    "# Homework Assignment 2, Problem 1\n",
    "\n",
    "Practice analytic skills using Excel and Python. "
   ]
  },
  {
   "cell_type": "markdown",
   "metadata": {
    "Collapsed": "false"
   },
   "source": [
    "## Preliminaries"
   ]
  },
  {
   "cell_type": "code",
   "execution_count": 35,
   "metadata": {
    "Collapsed": "false"
   },
   "outputs": [
    {
     "name": "stdout",
     "output_type": "stream",
     "text": [
      "The autoreload extension is already loaded. To reload it, use:\n",
      "  %reload_ext autoreload\n"
     ]
    }
   ],
   "source": [
    "# To auto-reload modules in jupyter notebook (so that changes in files *.py doesn't require manual reloading):\n",
    "# https://stackoverflow.com/questions/5364050/reloading-submodules-in-ipython\n",
    "%load_ext autoreload\n",
    "%autoreload 2"
   ]
  },
  {
   "cell_type": "markdown",
   "metadata": {
    "Collapsed": "false"
   },
   "source": [
    "Import commonly used libraries and magic command for inline plotting. Also import the whatif.py file since we will need the classes to allow inheritance for our newly-created classes below."
   ]
  },
  {
   "cell_type": "code",
   "execution_count": 36,
   "metadata": {
    "Collapsed": "false"
   },
   "outputs": [],
   "source": [
    "import numpy as np\n",
    "import pandas as pd\n",
    "import matplotlib.pyplot as plt\n",
    "import seaborn as sns\n",
    "from whatif import Model\n",
    "from whatif import get_sim_results_df"
   ]
  },
  {
   "cell_type": "code",
   "execution_count": 37,
   "metadata": {},
   "outputs": [],
   "source": [
    "%matplotlib inline"
   ]
  },
  {
   "cell_type": "markdown",
   "metadata": {
    "Collapsed": "false"
   },
   "source": [
    "## Work\n",
    "\n",
    "This is where work gets done."
   ]
  },
  {
   "cell_type": "markdown",
   "metadata": {
    "Collapsed": "false"
   },
   "source": [
    "Manually copy the logs and save them in the data directory.\n",
    "Create a BCM.xlsx file.\n",
    "\n",
    "Analysis 1 - Basic Break Even Analysis\n",
    "    Base Model: Credit to Prof. Isken for the class below"
   ]
  },
  {
   "cell_type": "code",
   "execution_count": 38,
   "metadata": {},
   "outputs": [],
   "source": [
    "class SingleProductSPF(Model):\n",
    "    \"\"\"Base model\"\"\"\n",
    "    def __init__(self, fixed_cost=5000, var_cost=100, selling_price=115, \n",
    "               spf_constant=4900, spf_linear=-35, spf_quadratic=0.06):\n",
    "        self.fixed_cost = fixed_cost\n",
    "        self.var_cost = var_cost\n",
    "        self.selling_price = selling_price\n",
    "        self.spf_constant = spf_constant\n",
    "        self.spf_linear = spf_linear\n",
    "        self.spf_quadratic = spf_quadratic\n",
    "        self.demand = (spf_quadratic*selling_price*selling_price) + (spf_linear*selling_price) + spf_constant\n",
    "        \n",
    "    def order_cost(self):\n",
    "        \"\"\"Order cost\"\"\"\n",
    "        return self.fixed_cost + (self.var_cost*self.demand)\n",
    "    \n",
    "    def revenue(self):\n",
    "        \"\"\"Revenue\"\"\"\n",
    "        return (self.selling_price*self.demand)\n",
    "    \n",
    "    def profit(self):\n",
    "        \"\"\"Profit\"\"\"\n",
    "        return (self.revenue() - self.order_cost())"
   ]
  },
  {
   "cell_type": "code",
   "execution_count": 43,
   "metadata": {},
   "outputs": [
    {
     "name": "stdout",
     "output_type": "stream",
     "text": [
      "{'fixed_cost': 5000, 'var_cost': 100, 'selling_price': 115, 'spf_constant': 4900, 'spf_linear': -35, 'spf_quadratic': 0.06, 'demand': 1668.5}\n",
      "Here is the demand : 1668.5\n",
      "Here is the total cost : 171850.0\n",
      "Here is the total revenue : 191877.5\n",
      "Here is the profit : 20027.5\n"
     ]
    }
   ],
   "source": [
    "model = SingleProductSPF() # This will run the method above and assign it to model object\n",
    "print(model)\n",
    "\n",
    "print(f'Here is the demand : {model.demand}')\n",
    "\n",
    "print(f'Here is the total cost : {model.order_cost()}')\n",
    "    \n",
    "print(f'Here is the total revenue : {model.revenue()}')\n",
    "\n",
    "print(f'Here is the profit : {model.profit()}')\n"
   ]
  },
  {
   "cell_type": "markdown",
   "metadata": {},
   "source": [
    "Create some data tables and to do some goal seeking, the structure of your model should be roughly similar to the BookstoreModel we did in the course notes.\n",
    "\n",
    "Determine the breakeven level of sales, or the value of selling price that returns a profit of zero."
   ]
  },
  {
   "cell_type": "code",
   "execution_count": 73,
   "metadata": {},
   "outputs": [
    {
     "name": "stdout",
     "output_type": "stream",
     "text": [
      "-1.4799434375017881\n"
     ]
    }
   ],
   "source": [
    "model_2 = SingleProductSPF(5000, 100, 102.575, 4900, -35, 0.06)\n",
    "print(model_2.profit())"
   ]
  },
  {
   "cell_type": "markdown",
   "metadata": {},
   "source": [
    "The selling price which will result in a profit of nearly zero is $102.575 or $102.57 (rounded down)."
   ]
  },
  {
   "cell_type": "code",
   "execution_count": null,
   "metadata": {},
   "outputs": [],
   "source": []
  },
  {
   "cell_type": "code",
   "execution_count": null,
   "metadata": {},
   "outputs": [],
   "source": [
    "model.data_table()"
   ]
  }
 ],
 "metadata": {
  "kernelspec": {
   "display_name": "Python 3 (ipykernel)",
   "language": "python",
   "name": "python3"
  },
  "language_info": {
   "codemirror_mode": {
    "name": "ipython",
    "version": 3
   },
   "file_extension": ".py",
   "mimetype": "text/x-python",
   "name": "python",
   "nbconvert_exporter": "python",
   "pygments_lexer": "ipython3",
   "version": "3.10.9"
  },
  "toc-autonumbering": true
 },
 "nbformat": 4,
 "nbformat_minor": 4
}
