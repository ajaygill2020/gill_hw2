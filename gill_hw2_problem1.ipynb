{
 "cells": [
  {
   "cell_type": "markdown",
   "metadata": {
    "Collapsed": "false"
   },
   "source": [
    "# Homework Assignment 2, Problem 1\n",
    "\n",
    "Practice analytic skills using Excel and Python. "
   ]
  },
  {
   "cell_type": "markdown",
   "metadata": {
    "Collapsed": "false"
   },
   "source": [
    "## Preliminaries"
   ]
  },
  {
   "cell_type": "code",
   "execution_count": 49,
   "metadata": {
    "Collapsed": "false"
   },
   "outputs": [
    {
     "name": "stdout",
     "output_type": "stream",
     "text": [
      "The autoreload extension is already loaded. To reload it, use:\n",
      "  %reload_ext autoreload\n"
     ]
    }
   ],
   "source": [
    "# To auto-reload modules in jupyter notebook (so that changes in files *.py doesn't require manual reloading):\n",
    "# https://stackoverflow.com/questions/5364050/reloading-submodules-in-ipython\n",
    "%load_ext autoreload\n",
    "%autoreload 2"
   ]
  },
  {
   "cell_type": "markdown",
   "metadata": {
    "Collapsed": "false"
   },
   "source": [
    "Import commonly used libraries and magic command for inline plotting. Also import the whatif.py file since we will need the classes to allow inheritance for our newly-created classes below."
   ]
  },
  {
   "cell_type": "code",
   "execution_count": 50,
   "metadata": {
    "Collapsed": "false"
   },
   "outputs": [],
   "source": [
    "import numpy as np\n",
    "import pandas as pd\n",
    "import matplotlib.pyplot as plt\n",
    "import seaborn as sns\n",
    "from whatif import Model\n",
    "from whatif import get_sim_results_df\n",
    "from numpy.random import default_rng\n",
    "from scipy import stats"
   ]
  },
  {
   "cell_type": "code",
   "execution_count": 51,
   "metadata": {},
   "outputs": [],
   "source": [
    "%matplotlib inline"
   ]
  },
  {
   "cell_type": "markdown",
   "metadata": {
    "Collapsed": "false"
   },
   "source": [
    "## Work\n",
    "\n",
    "This is where work gets done."
   ]
  },
  {
   "cell_type": "markdown",
   "metadata": {
    "Collapsed": "false"
   },
   "source": [
    "Manually copy the logs and save them in the data directory.\n",
    "Create a BCM.xlsx file.\n",
    "\n",
    "Analysis 1 - Basic Break Even Analysis\n",
    "    Base Model: Credit to Prof. Isken for the class below"
   ]
  },
  {
   "cell_type": "code",
   "execution_count": 52,
   "metadata": {},
   "outputs": [],
   "source": [
    "class SingleProductSPF(Model):\n",
    "    \"\"\"Base model\"\"\"\n",
    "    def __init__(self, fixed_cost=5000, var_cost=100, selling_price=115, \n",
    "               spf_constant=4900, spf_linear=-35, spf_quadratic=0.06):\n",
    "        self.fixed_cost = fixed_cost\n",
    "        self.var_cost = var_cost\n",
    "        self.selling_price = selling_price\n",
    "        self.spf_constant = spf_constant\n",
    "        self.spf_linear = spf_linear\n",
    "        self.spf_quadratic = spf_quadratic\n",
    "        self.demand = (spf_quadratic*selling_price*selling_price) + (spf_linear*selling_price) + spf_constant\n",
    "        \n",
    "    def order_cost(self):\n",
    "        \"\"\"Order cost\"\"\"\n",
    "        return self.fixed_cost + (self.var_cost*self.demand)\n",
    "    \n",
    "    def revenue(self):\n",
    "        \"\"\"Revenue\"\"\"\n",
    "        return (self.selling_price*self.demand)\n",
    "    \n",
    "    def profit(self):\n",
    "        \"\"\"Profit\"\"\"\n",
    "        return (self.revenue() - self.order_cost())\n",
    "    \n",
    "    \n",
    "    # The functions below will be used later on\n",
    "    #  def update(self, param_dict)\n",
    "    #  def data_table(self, scenario_inputs, outputs)"
   ]
  },
  {
   "cell_type": "code",
   "execution_count": 53,
   "metadata": {},
   "outputs": [
    {
     "name": "stdout",
     "output_type": "stream",
     "text": [
      "{'fixed_cost': 5000, 'var_cost': 100, 'selling_price': 115, 'spf_constant': 4900, 'spf_linear': -35, 'spf_quadratic': 0.06, 'demand': 1668.5}\n",
      "Here is the demand : 1668.5\n",
      "Here is the total cost : 171850.0\n",
      "Here is the total revenue : 191877.5\n",
      "Here is the profit : 20027.5\n"
     ]
    }
   ],
   "source": [
    "model = SingleProductSPF() # This will run the method above and assign it to model object\n",
    "print(model)\n",
    "\n",
    "print(f'Here is the demand : {model.demand}')\n",
    "\n",
    "print(f'Here is the total cost : {model.order_cost()}')\n",
    "    \n",
    "print(f'Here is the total revenue : {model.revenue()}')\n",
    "\n",
    "print(f'Here is the profit : {model.profit()}')\n"
   ]
  },
  {
   "cell_type": "markdown",
   "metadata": {},
   "source": [
    "Create some data tables and to do some goal seeking, the structure of your model should be roughly similar to the BookstoreModel we did in the course notes.\n",
    "\n",
    "Determine the breakeven level of sales, or the value of selling price that returns a profit of zero."
   ]
  },
  {
   "cell_type": "code",
   "execution_count": 54,
   "metadata": {},
   "outputs": [
    {
     "name": "stdout",
     "output_type": "stream",
     "text": [
      "-1.4799434375017881\n"
     ]
    }
   ],
   "source": [
    "model_2 = SingleProductSPF(5000, 100, 102.575, 4900, -35, 0.06)\n",
    "print(model_2.profit())"
   ]
  },
  {
   "cell_type": "markdown",
   "metadata": {},
   "source": [
    "The selling price which will result in a profit of nearly zero is 102.575 or $102.57 (rounded down)."
   ]
  },
  {
   "cell_type": "markdown",
   "metadata": {},
   "source": [
    "Create a one-way data table using data_table function to show how profit and demand are related to selling price. We can extend the functions from the existing whatif.py file. Profit and demand are the outputs and selling price is the input. Let price range from 80 to 140 in steps of $10."
   ]
  },
  {
   "cell_type": "code",
   "execution_count": 55,
   "metadata": {},
   "outputs": [
    {
     "name": "stdout",
     "output_type": "stream",
     "text": [
      "[ 80  90 100 110 120 130 140]\n",
      "[-38370. -21685.  -5000.  11685.  28370.  45055.  61740.]\n"
     ]
    },
    {
     "data": {
      "text/html": [
       "<div>\n",
       "<style scoped>\n",
       "    .dataframe tbody tr th:only-of-type {\n",
       "        vertical-align: middle;\n",
       "    }\n",
       "\n",
       "    .dataframe tbody tr th {\n",
       "        vertical-align: top;\n",
       "    }\n",
       "\n",
       "    .dataframe thead th {\n",
       "        text-align: right;\n",
       "    }\n",
       "</style>\n",
       "<table border=\"1\" class=\"dataframe\">\n",
       "  <thead>\n",
       "    <tr style=\"text-align: right;\">\n",
       "      <th></th>\n",
       "      <th>selling_price</th>\n",
       "      <th>profit</th>\n",
       "    </tr>\n",
       "  </thead>\n",
       "  <tbody>\n",
       "    <tr>\n",
       "      <th>0</th>\n",
       "      <td>80</td>\n",
       "      <td>-38370.0</td>\n",
       "    </tr>\n",
       "    <tr>\n",
       "      <th>1</th>\n",
       "      <td>90</td>\n",
       "      <td>-21685.0</td>\n",
       "    </tr>\n",
       "    <tr>\n",
       "      <th>2</th>\n",
       "      <td>100</td>\n",
       "      <td>-5000.0</td>\n",
       "    </tr>\n",
       "    <tr>\n",
       "      <th>3</th>\n",
       "      <td>110</td>\n",
       "      <td>11685.0</td>\n",
       "    </tr>\n",
       "    <tr>\n",
       "      <th>4</th>\n",
       "      <td>120</td>\n",
       "      <td>28370.0</td>\n",
       "    </tr>\n",
       "    <tr>\n",
       "      <th>5</th>\n",
       "      <td>130</td>\n",
       "      <td>45055.0</td>\n",
       "    </tr>\n",
       "    <tr>\n",
       "      <th>6</th>\n",
       "      <td>140</td>\n",
       "      <td>61740.0</td>\n",
       "    </tr>\n",
       "  </tbody>\n",
       "</table>\n",
       "</div>"
      ],
      "text/plain": [
       "   selling_price   profit\n",
       "0             80 -38370.0\n",
       "1             90 -21685.0\n",
       "2            100  -5000.0\n",
       "3            110  11685.0\n",
       "4            120  28370.0\n",
       "5            130  45055.0\n",
       "6            140  61740.0"
      ]
     },
     "execution_count": 55,
     "metadata": {},
     "output_type": "execute_result"
    }
   ],
   "source": [
    "model.selling_price = np.arange(80, 141, 10)\n",
    "print(model.selling_price)\n",
    "\n",
    "profit_array = model.profit()\n",
    "print(profit_array)\n",
    "\n",
    "inputs = {\n",
    "    'selling_price': np.arange(80, 141, 10)\n",
    "}\n",
    "\n",
    "outputs = {\n",
    "    'profit': profit_array,\n",
    "}\n",
    "\n",
    "model.data_table(inputs, outputs)"
   ]
  },
  {
   "cell_type": "markdown",
   "metadata": {},
   "source": [
    "Create a graph based on your data table object so that it is easy to visualize the relationship between selling price and profit."
   ]
  },
  {
   "cell_type": "code",
   "execution_count": 56,
   "metadata": {
    "scrolled": false
   },
   "outputs": [
    {
     "data": {
      "image/png": "[encoded data removed]",
      "text/plain": [
       "<Figure size 640x480 with 1 Axes>"
      ]
     },
     "metadata": {},
     "output_type": "display_data"
    }
   ],
   "source": [
    "x = model.selling_price # X-axis\n",
    "y = profit_array # Y-axis\n",
    "\n",
    "# Plotting the points \n",
    "plt.plot(x, y)\n",
    "  \n",
    "# naming the x axis\n",
    "plt.xlabel('Selling Price')\n",
    "# naming the y axis\n",
    "plt.ylabel('Profit')\n",
    "  \n",
    "# giving a title to my graph\n",
    "plt.title('Relationship between various selling prices and profit')\n",
    "  \n",
    "# function to show the plot\n",
    "plt.show()"
   ]
  },
  {
   "cell_type": "markdown",
   "metadata": {},
   "source": [
    "This is a linear function. The graph has this shape because as the selling price increases, the producer/vendor can charge more and thus results in more revenue and can lead to higher profit."
   ]
  },
  {
   "cell_type": "markdown",
   "metadata": {},
   "source": [
    "Use our goal_seek function to find the break even selling price between 80 and 140. "
   ]
  },
  {
   "cell_type": "code",
   "execution_count": 57,
   "metadata": {},
   "outputs": [
    {
     "name": "stdout",
     "output_type": "stream",
     "text": [
      "The break even selling price between $80 and $140 is 95.25\n"
     ]
    }
   ],
   "source": [
    "break_even_price = model.goal_seek('profit', 0, 'selling_price', 80, 141, 1)\n",
    "print(f'The break even selling price between $80 and $140 is {break_even_price}')"
   ]
  },
  {
   "cell_type": "markdown",
   "metadata": {},
   "source": [
    "You are also interested in the sensitivity of profit AND total cost to different combinations of selling price and the variable production cost. So, create a 2-way data table using data_table  for these two input variables. Let price range from 80 to 140 in steps of 10 and let the variable production cost vary from 85 to 110 in steps of 5."
   ]
  },
  {
   "cell_type": "code",
   "execution_count": 58,
   "metadata": {},
   "outputs": [
    {
     "name": "stdout",
     "output_type": "stream",
     "text": [
      "[ 80  90 100 110 120 130 140]\n",
      "[-38370. -21685.  -5000.  11685.  28370.  45055.  61740.]\n"
     ]
    },
    {
     "data": {
      "text/html": [
       "<div>\n",
       "<style scoped>\n",
       "    .dataframe tbody tr th:only-of-type {\n",
       "        vertical-align: middle;\n",
       "    }\n",
       "\n",
       "    .dataframe tbody tr th {\n",
       "        vertical-align: top;\n",
       "    }\n",
       "\n",
       "    .dataframe thead th {\n",
       "        text-align: right;\n",
       "    }\n",
       "</style>\n",
       "<table border=\"1\" class=\"dataframe\">\n",
       "  <thead>\n",
       "    <tr style=\"text-align: right;\">\n",
       "      <th></th>\n",
       "      <th>selling_price</th>\n",
       "      <th>var_cost</th>\n",
       "      <th>profit</th>\n",
       "    </tr>\n",
       "  </thead>\n",
       "  <tbody>\n",
       "    <tr>\n",
       "      <th>0</th>\n",
       "      <td>80</td>\n",
       "      <td>85</td>\n",
       "      <td>-13342.5</td>\n",
       "    </tr>\n",
       "    <tr>\n",
       "      <th>1</th>\n",
       "      <td>80</td>\n",
       "      <td>90</td>\n",
       "      <td>-21685.0</td>\n",
       "    </tr>\n",
       "    <tr>\n",
       "      <th>2</th>\n",
       "      <td>80</td>\n",
       "      <td>95</td>\n",
       "      <td>-30027.5</td>\n",
       "    </tr>\n",
       "    <tr>\n",
       "      <th>3</th>\n",
       "      <td>80</td>\n",
       "      <td>100</td>\n",
       "      <td>-38370.0</td>\n",
       "    </tr>\n",
       "    <tr>\n",
       "      <th>4</th>\n",
       "      <td>80</td>\n",
       "      <td>105</td>\n",
       "      <td>-46712.5</td>\n",
       "    </tr>\n",
       "    <tr>\n",
       "      <th>5</th>\n",
       "      <td>80</td>\n",
       "      <td>110</td>\n",
       "      <td>-55055.0</td>\n",
       "    </tr>\n",
       "    <tr>\n",
       "      <th>6</th>\n",
       "      <td>90</td>\n",
       "      <td>85</td>\n",
       "      <td>3342.5</td>\n",
       "    </tr>\n",
       "    <tr>\n",
       "      <th>7</th>\n",
       "      <td>90</td>\n",
       "      <td>90</td>\n",
       "      <td>-5000.0</td>\n",
       "    </tr>\n",
       "    <tr>\n",
       "      <th>8</th>\n",
       "      <td>90</td>\n",
       "      <td>95</td>\n",
       "      <td>-13342.5</td>\n",
       "    </tr>\n",
       "    <tr>\n",
       "      <th>9</th>\n",
       "      <td>90</td>\n",
       "      <td>100</td>\n",
       "      <td>-21685.0</td>\n",
       "    </tr>\n",
       "    <tr>\n",
       "      <th>10</th>\n",
       "      <td>90</td>\n",
       "      <td>105</td>\n",
       "      <td>-30027.5</td>\n",
       "    </tr>\n",
       "    <tr>\n",
       "      <th>11</th>\n",
       "      <td>90</td>\n",
       "      <td>110</td>\n",
       "      <td>-38370.0</td>\n",
       "    </tr>\n",
       "    <tr>\n",
       "      <th>12</th>\n",
       "      <td>100</td>\n",
       "      <td>85</td>\n",
       "      <td>20027.5</td>\n",
       "    </tr>\n",
       "    <tr>\n",
       "      <th>13</th>\n",
       "      <td>100</td>\n",
       "      <td>90</td>\n",
       "      <td>11685.0</td>\n",
       "    </tr>\n",
       "    <tr>\n",
       "      <th>14</th>\n",
       "      <td>100</td>\n",
       "      <td>95</td>\n",
       "      <td>3342.5</td>\n",
       "    </tr>\n",
       "    <tr>\n",
       "      <th>15</th>\n",
       "      <td>100</td>\n",
       "      <td>100</td>\n",
       "      <td>-5000.0</td>\n",
       "    </tr>\n",
       "    <tr>\n",
       "      <th>16</th>\n",
       "      <td>100</td>\n",
       "      <td>105</td>\n",
       "      <td>-13342.5</td>\n",
       "    </tr>\n",
       "    <tr>\n",
       "      <th>17</th>\n",
       "      <td>100</td>\n",
       "      <td>110</td>\n",
       "      <td>-21685.0</td>\n",
       "    </tr>\n",
       "    <tr>\n",
       "      <th>18</th>\n",
       "      <td>110</td>\n",
       "      <td>85</td>\n",
       "      <td>36712.5</td>\n",
       "    </tr>\n",
       "    <tr>\n",
       "      <th>19</th>\n",
       "      <td>110</td>\n",
       "      <td>90</td>\n",
       "      <td>28370.0</td>\n",
       "    </tr>\n",
       "    <tr>\n",
       "      <th>20</th>\n",
       "      <td>110</td>\n",
       "      <td>95</td>\n",
       "      <td>20027.5</td>\n",
       "    </tr>\n",
       "    <tr>\n",
       "      <th>21</th>\n",
       "      <td>110</td>\n",
       "      <td>100</td>\n",
       "      <td>11685.0</td>\n",
       "    </tr>\n",
       "    <tr>\n",
       "      <th>22</th>\n",
       "      <td>110</td>\n",
       "      <td>105</td>\n",
       "      <td>3342.5</td>\n",
       "    </tr>\n",
       "    <tr>\n",
       "      <th>23</th>\n",
       "      <td>110</td>\n",
       "      <td>110</td>\n",
       "      <td>-5000.0</td>\n",
       "    </tr>\n",
       "    <tr>\n",
       "      <th>24</th>\n",
       "      <td>120</td>\n",
       "      <td>85</td>\n",
       "      <td>53397.5</td>\n",
       "    </tr>\n",
       "    <tr>\n",
       "      <th>25</th>\n",
       "      <td>120</td>\n",
       "      <td>90</td>\n",
       "      <td>45055.0</td>\n",
       "    </tr>\n",
       "    <tr>\n",
       "      <th>26</th>\n",
       "      <td>120</td>\n",
       "      <td>95</td>\n",
       "      <td>36712.5</td>\n",
       "    </tr>\n",
       "    <tr>\n",
       "      <th>27</th>\n",
       "      <td>120</td>\n",
       "      <td>100</td>\n",
       "      <td>28370.0</td>\n",
       "    </tr>\n",
       "    <tr>\n",
       "      <th>28</th>\n",
       "      <td>120</td>\n",
       "      <td>105</td>\n",
       "      <td>20027.5</td>\n",
       "    </tr>\n",
       "    <tr>\n",
       "      <th>29</th>\n",
       "      <td>120</td>\n",
       "      <td>110</td>\n",
       "      <td>11685.0</td>\n",
       "    </tr>\n",
       "    <tr>\n",
       "      <th>30</th>\n",
       "      <td>130</td>\n",
       "      <td>85</td>\n",
       "      <td>70082.5</td>\n",
       "    </tr>\n",
       "    <tr>\n",
       "      <th>31</th>\n",
       "      <td>130</td>\n",
       "      <td>90</td>\n",
       "      <td>61740.0</td>\n",
       "    </tr>\n",
       "    <tr>\n",
       "      <th>32</th>\n",
       "      <td>130</td>\n",
       "      <td>95</td>\n",
       "      <td>53397.5</td>\n",
       "    </tr>\n",
       "    <tr>\n",
       "      <th>33</th>\n",
       "      <td>130</td>\n",
       "      <td>100</td>\n",
       "      <td>45055.0</td>\n",
       "    </tr>\n",
       "    <tr>\n",
       "      <th>34</th>\n",
       "      <td>130</td>\n",
       "      <td>105</td>\n",
       "      <td>36712.5</td>\n",
       "    </tr>\n",
       "    <tr>\n",
       "      <th>35</th>\n",
       "      <td>130</td>\n",
       "      <td>110</td>\n",
       "      <td>28370.0</td>\n",
       "    </tr>\n",
       "    <tr>\n",
       "      <th>36</th>\n",
       "      <td>140</td>\n",
       "      <td>85</td>\n",
       "      <td>86767.5</td>\n",
       "    </tr>\n",
       "    <tr>\n",
       "      <th>37</th>\n",
       "      <td>140</td>\n",
       "      <td>90</td>\n",
       "      <td>78425.0</td>\n",
       "    </tr>\n",
       "    <tr>\n",
       "      <th>38</th>\n",
       "      <td>140</td>\n",
       "      <td>95</td>\n",
       "      <td>70082.5</td>\n",
       "    </tr>\n",
       "    <tr>\n",
       "      <th>39</th>\n",
       "      <td>140</td>\n",
       "      <td>100</td>\n",
       "      <td>61740.0</td>\n",
       "    </tr>\n",
       "    <tr>\n",
       "      <th>40</th>\n",
       "      <td>140</td>\n",
       "      <td>105</td>\n",
       "      <td>53397.5</td>\n",
       "    </tr>\n",
       "    <tr>\n",
       "      <th>41</th>\n",
       "      <td>140</td>\n",
       "      <td>110</td>\n",
       "      <td>45055.0</td>\n",
       "    </tr>\n",
       "  </tbody>\n",
       "</table>\n",
       "</div>"
      ],
      "text/plain": [
       "    selling_price  var_cost   profit\n",
       "0              80        85 -13342.5\n",
       "1              80        90 -21685.0\n",
       "2              80        95 -30027.5\n",
       "3              80       100 -38370.0\n",
       "4              80       105 -46712.5\n",
       "5              80       110 -55055.0\n",
       "6              90        85   3342.5\n",
       "7              90        90  -5000.0\n",
       "8              90        95 -13342.5\n",
       "9              90       100 -21685.0\n",
       "10             90       105 -30027.5\n",
       "11             90       110 -38370.0\n",
       "12            100        85  20027.5\n",
       "13            100        90  11685.0\n",
       "14            100        95   3342.5\n",
       "15            100       100  -5000.0\n",
       "16            100       105 -13342.5\n",
       "17            100       110 -21685.0\n",
       "18            110        85  36712.5\n",
       "19            110        90  28370.0\n",
       "20            110        95  20027.5\n",
       "21            110       100  11685.0\n",
       "22            110       105   3342.5\n",
       "23            110       110  -5000.0\n",
       "24            120        85  53397.5\n",
       "25            120        90  45055.0\n",
       "26            120        95  36712.5\n",
       "27            120       100  28370.0\n",
       "28            120       105  20027.5\n",
       "29            120       110  11685.0\n",
       "30            130        85  70082.5\n",
       "31            130        90  61740.0\n",
       "32            130        95  53397.5\n",
       "33            130       100  45055.0\n",
       "34            130       105  36712.5\n",
       "35            130       110  28370.0\n",
       "36            140        85  86767.5\n",
       "37            140        90  78425.0\n",
       "38            140        95  70082.5\n",
       "39            140       100  61740.0\n",
       "40            140       105  53397.5\n",
       "41            140       110  45055.0"
      ]
     },
     "execution_count": 58,
     "metadata": {},
     "output_type": "execute_result"
    }
   ],
   "source": [
    "model.selling_price = np.arange(80, 141, 10)\n",
    "print(model.selling_price)\n",
    "\n",
    "profit_array = model.profit()\n",
    "print(profit_array)\n",
    "\n",
    "inputs = {\n",
    "    'selling_price': np.arange(80, 141, 10),\n",
    "    'var_cost': np.arange(85, 111, 5) \n",
    "}\n",
    "\n",
    "outputs = {\n",
    "    'profit': profit_array\n",
    "}\n",
    "\n",
    "model.data_table(inputs, outputs)"
   ]
  },
  {
   "cell_type": "markdown",
   "metadata": {},
   "source": [
    "Redo the Goal Seek but instead of using $80-$140 as your search range, use $80-$250. What happens? Why do you think this happens?"
   ]
  },
  {
   "cell_type": "code",
   "execution_count": 59,
   "metadata": {},
   "outputs": [
    {
     "name": "stdout",
     "output_type": "stream",
     "text": [
      "The break even selling price between $80 and $140 is 122.75\n"
     ]
    }
   ],
   "source": [
    "break_even_price = model.goal_seek('profit', 0, 'selling_price', 80, 251, 1)\n",
    "print(f'The break even selling price between $80 and $140 is {break_even_price}')"
   ]
  },
  {
   "cell_type": "markdown",
   "metadata": {},
   "source": [
    "The break even selling price has increased by $23.50 and this is because we have increased our range of selling prices so we have higher revenues to account for. "
   ]
  },
  {
   "cell_type": "markdown",
   "metadata": {},
   "source": [
    "Redo your 1-way data table and associated selling price vs profit plot but use $80-$250 as your input range. Now, why do you think that your Goal Seek failed?"
   ]
  },
  {
   "cell_type": "code",
   "execution_count": 60,
   "metadata": {},
   "outputs": [
    {
     "name": "stdout",
     "output_type": "stream",
     "text": [
      "[ 80  90 100 110 120 130 140 150 160 170 180 190 200 210 220 230 240 250]\n",
      "[-38370. -21685.  -5000.  11685.  28370.  45055.  61740.  78425.  95110.\n",
      " 111795. 128480. 145165. 161850. 178535. 195220. 211905. 228590. 245275.]\n",
      "The break even selling price between $80 and $140 is 122.75\n"
     ]
    }
   ],
   "source": [
    "model.selling_price = np.arange(80, 251, 10)\n",
    "print(model.selling_price)\n",
    "\n",
    "profit_array = model.profit()\n",
    "print(profit_array)\n",
    "\n",
    "inputs = {\n",
    "    'selling_price': np.arange(80, 251, 10)\n",
    "}\n",
    "\n",
    "outputs = {\n",
    "    'profit': profit_array,\n",
    "}\n",
    "\n",
    "model.data_table(inputs, outputs)\n",
    "\n",
    "break_even_price = model.goal_seek('profit', 0, 'selling_price', 80, 251, 1)\n",
    "print(f'The break even selling price between $80 and $140 is {break_even_price}')"
   ]
  },
  {
   "cell_type": "markdown",
   "metadata": {},
   "source": [
    "My goal seek may have failed because my profits are getting larger."
   ]
  },
  {
   "cell_type": "markdown",
   "metadata": {},
   "source": [
    "Let’s model it with a uniform distribution between (80, 120). \n",
    "\n",
    "Use our simulate function to simulate this and answer the following questions:\n",
    "1. Create a histogram of profit\n",
    "2. What is the probability that profit is negative based on our simulation?"
   ]
  },
  {
   "cell_type": "code",
   "execution_count": 67,
   "metadata": {},
   "outputs": [
    {
     "name": "stdout",
     "output_type": "stream",
     "text": [
      "(80, -38370.0)\n",
      "(81, -36701.5)\n",
      "(82, -35033.0)\n",
      "(83, -33364.5)\n",
      "(84, -31696.0)\n",
      "(85, -30027.5)\n",
      "(86, -28359.0)\n",
      "(87, -26690.5)\n",
      "(88, -25022.0)\n",
      "(89, -23353.5)\n",
      "(90, -21685.0)\n",
      "(91, -20016.5)\n",
      "(92, -18348.0)\n",
      "(93, -16679.5)\n",
      "(94, -15011.0)\n",
      "(95, -13342.5)\n",
      "(96, -11674.0)\n",
      "(97, -10005.5)\n",
      "(98, -8337.0)\n",
      "(99, -6668.5)\n",
      "(100, -5000.0)\n",
      "(101, -3331.5)\n",
      "(102, -1663.0)\n",
      "(103, 5.5)\n",
      "(104, 1674.0)\n",
      "(105, 3342.5)\n",
      "(106, 5011.0)\n",
      "(107, 6679.5)\n",
      "(108, 8348.0)\n",
      "(109, 10016.5)\n",
      "(110, 11685.0)\n",
      "(111, 13353.5)\n",
      "(112, 15022.0)\n",
      "(113, 16690.5)\n",
      "(114, 18359.0)\n",
      "(115, 20027.5)\n",
      "(116, 21696.0)\n",
      "(117, 23364.5)\n",
      "(118, 25033.0)\n",
      "(119, 26701.5)\n",
      "(120, 28370.0)\n",
      "0.45855804438027437\n"
     ]
    },
    {
     "data": {
      "text/plain": [
       "(array([4., 4., 4., 4., 4., 4., 4., 4., 4., 5.]),\n",
       " array([-38370., -31696., -25022., -18348., -11674.,  -5000.,   1674.,\n",
       "          8348.,  15022.,  21696.,  28370.]),\n",
       " <BarContainer object of 10 artists>)"
      ]
     },
     "execution_count": 67,
     "metadata": {},
     "output_type": "execute_result"
    },
    {
     "data": {
      "image/png": "[encoded data removed]",
      "text/plain": [
       "<Figure size 640x480 with 1 Axes>"
      ]
     },
     "metadata": {},
     "output_type": "display_data"
    }
   ],
   "source": [
    "prices = model.selling_price = np.arange(80, 121, 1)\n",
    "profit_array = model.profit()\n",
    "\n",
    "for t in zip(prices, profit_array):\n",
    "    print(t)\n",
    "    \n",
    "rg = default_rng(4470)\n",
    "print(rg.random())\n",
    "profit_distribution = rg.uniform(80, 121, 1)\n",
    "rv_profit = stats.uniform(loc=7.0, scale=1.0)\n",
    "\n",
    "plt.title(\"Profit histogram\")\n",
    "plt.xlabel(\"Profit\")\n",
    "plt.ylabel(\"Density\")\n",
    "plt.hist(profit_array)"
   ]
  }
 ],
 "metadata": {
  "kernelspec": {
   "display_name": "Python 3 (ipykernel)",
   "language": "python",
   "name": "python3"
  },
  "language_info": {
   "codemirror_mode": {
    "name": "ipython",
    "version": 3
   },
   "file_extension": ".py",
   "mimetype": "text/x-python",
   "name": "python",
   "nbconvert_exporter": "python",
   "pygments_lexer": "ipython3",
   "version": "3.10.9"
  },
  "toc-autonumbering": true
 },
 "nbformat": 4,
 "nbformat_minor": 4
}
